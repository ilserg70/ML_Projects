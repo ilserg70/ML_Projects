{
 "cells": [
  {
   "cell_type": "markdown",
   "metadata": {},
   "source": [
    "## Make video from frames"
   ]
  },
  {
   "cell_type": "code",
   "execution_count": null,
   "metadata": {},
   "outputs": [],
   "source": [
    "import os\n",
    "import re\n",
    "import cv2"
   ]
  },
  {
   "cell_type": "code",
   "execution_count": null,
   "metadata": {},
   "outputs": [],
   "source": [
    "def get_subdirs(parent_dir):\n",
    "    return [name for name in os.listdir(parent_dir) if os.path.isdir(os.path.join(parent_dir, name))]\n",
    "\n",
    "def get_sorted_files(dir_path):\n",
    "    files = [f for f in os.listdir(dir_path) if os.path.isfile(os.path.join(dir_path, f))]\n",
    "    files.sort(key = lambda f: int(re.search('[^0-9]*(\\d+)\\..*', f).group(1)))\n",
    "    return [os.path.join(dir_path, f) for f in files]\n",
    "\n",
    "def mk_video(path_to_frames, path_to_video, fps=30):\n",
    "    \"\"\"\n",
    "    fps - frames per second\n",
    "    \"\"\"\n",
    "    files = get_sorted_files(path_to_frames)\n",
    "    \n",
    "    img = cv2.imread(files[0])\n",
    "    height, width, layers = img.shape\n",
    "    size = (width, height) # (16, 9)\n",
    "    out = cv2.VideoWriter(path_to_video, cv2.VideoWriter_fourcc(*'H264'), fps, size)\n",
    "    \n",
    "    for f in files:\n",
    "        out.write(cv2.imread(f))\n",
    "    \n",
    "    cv2.destroyAllWindows()\n",
    "    out.release()\n",
    "\n",
    "def mk_all_videos(data_dir, fps=30, update=False):\n",
    "    for sub_dir in get_subdirs(data_dir):\n",
    "        print(f\"Record ID: {sub_dir}\")\n",
    "        record_dir = os.path.join(data_dir, sub_dir)\n",
    "        path_to_video = os.path.join(record_dir, \"video_detected.mp4\")\n",
    "        path_to_frames = os.path.join(record_dir, \"frames_detected\")\n",
    "        if update and os.path.exists(path_to_video):\n",
    "            os.remove(path_to_video)\n",
    "        if not os.path.exists(path_to_video):\n",
    "            if os.path.exists(path_to_frames) and len(os.listdir(path_to_frames)) > 0:\n",
    "                mk_video(path_to_frames, path_to_video, fps)\n",
    "                print(f\"\\tvideo is created\")"
   ]
  },
  {
   "cell_type": "code",
   "execution_count": null,
   "metadata": {},
   "outputs": [],
   "source": [
    "data_dir = \"../../mydata/evidences_1\"\n",
    "record_dir = os.path.join(data_dir, \"5d9e3a6b-c07a-7aca-44be-551938968072\")\n",
    "path_to_video = os.path.join(record_dir, \"video_2.mp4\")\n",
    "path_to_frames = os.path.join(record_dir, \"frames\")\n",
    "mk_video(path_to_frames, path_to_video, fps=30)"
   ]
  },
  {
   "cell_type": "code",
   "execution_count": null,
   "metadata": {},
   "outputs": [],
   "source": [
    "data_dir = \"../../mydata/evidences_1\"\n",
    "mk_all_videos(data_dir, fps=30, update=True)"
   ]
  },
  {
   "cell_type": "code",
   "execution_count": null,
   "metadata": {},
   "outputs": [],
   "source": []
  },
  {
   "cell_type": "code",
   "execution_count": null,
   "metadata": {},
   "outputs": [],
   "source": [
    "def save():\n",
    "    os.system(\"ffmpeg -r 1 -i img%01d.png -vcodec mpeg4 -y movie.mp4\")"
   ]
  },
  {
   "cell_type": "code",
   "execution_count": null,
   "metadata": {},
   "outputs": [],
   "source": []
  }
 ],
 "metadata": {
  "kernelspec": {
   "display_name": "Python 3",
   "language": "python",
   "name": "python3"
  },
  "language_info": {
   "codemirror_mode": {
    "name": "ipython",
    "version": 3
   },
   "file_extension": ".py",
   "mimetype": "text/x-python",
   "name": "python",
   "nbconvert_exporter": "python",
   "pygments_lexer": "ipython3",
   "version": "3.7.4"
  }
 },
 "nbformat": 4,
 "nbformat_minor": 2
}
