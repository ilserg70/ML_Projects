{
 "cells": [
  {
   "cell_type": "markdown",
   "metadata": {},
   "source": [
    "# Face Detection using Haar Cascades\n",
    "https://docs.opencv.org/3.0-beta/doc/py_tutorials/py_objdetect/py_face_detection/py_face_detection.html"
   ]
  },
  {
   "cell_type": "code",
   "execution_count": 1,
   "metadata": {},
   "outputs": [],
   "source": [
    "import numpy as np\n",
    "import cv2\n",
    "import os\n",
    "\n",
    "def get_model(model_dir):\n",
    "    model = {\n",
    "        'face': cv2.CascadeClassifier(os.path.join(model_dir, 'haarcascade_frontalface_default.xml')),\n",
    "        'eye': cv2.CascadeClassifier(os.path.join(model_dir, 'haarcascade_eye.xml'))\n",
    "    }\n",
    "    return model\n",
    "\n",
    "def face_detection(img, model):\n",
    "    gray = cv2.cvtColor(img, cv2.COLOR_BGR2GRAY)\n",
    "    faces = model['face'].detectMultiScale(gray, 1.3, 5)\n",
    "    results = []\n",
    "    for (x1,y1,w,h) in faces:\n",
    "        x2, y2 = x1+w, y1+h\n",
    "        cv2.rectangle(img,(x1,y1),(x2,y2),(255,0,0),2)\n",
    "        roi_gray = gray[y1:y2, x1:x2]\n",
    "        roi_color = img[y1:y2, x1:x2]\n",
    "        eyes = model['eye'].detectMultiScale(roi_gray)\n",
    "        res_eyes = []\n",
    "        for (ex1,ey1,ew,eh) in eyes:\n",
    "            ex2, ey2 = ex1+ew, ey1+eh\n",
    "            res_eyes.append((ex1, ey1,ex2, ey2))\n",
    "            cv2.rectangle(roi_color,(ex1,ey1),(ex2,ey2),(0,255,0),2)\n",
    "        results.append({\n",
    "            'face': (x1, y1, x2, y2),\n",
    "            'eyes': res_eyes\n",
    "        })\n",
    "    return (img, results)"
   ]
  },
  {
   "cell_type": "code",
   "execution_count": 2,
   "metadata": {},
   "outputs": [],
   "source": [
    "cv2_data_dir = '/usr/local/lib/python3.7/site-packages/cv2/data'\n",
    "model = get_model(model_dir=cv2_data_dir)"
   ]
  },
  {
   "cell_type": "code",
   "execution_count": 4,
   "metadata": {},
   "outputs": [
    {
     "data": {
      "text/plain": [
       "[{'face': (408, 230, 612, 434),\n",
       "  'eyes': [(81, 45, 140, 104), (21, 66, 67, 112)]},\n",
       " {'face': (733, 76, 921, 264), 'eyes': [(99, 43, 147, 91), (35, 53, 81, 99)]}]"
      ]
     },
     "execution_count": 4,
     "metadata": {},
     "output_type": "execute_result"
    }
   ],
   "source": [
    "file_name = 'image1.jpg'\n",
    "img = cv2.imread(os.path.join('data/input',file_name))\n",
    "img, results = face_detection(img, model)\n",
    "cv2.imwrite(os.path.join('data/detected',file_name), img)\n",
    "results"
   ]
  },
  {
   "cell_type": "code",
   "execution_count": null,
   "metadata": {},
   "outputs": [],
   "source": []
  }
 ],
 "metadata": {
  "kernelspec": {
   "display_name": "Python 3",
   "language": "python",
   "name": "python3"
  },
  "language_info": {
   "codemirror_mode": {
    "name": "ipython",
    "version": 3
   },
   "file_extension": ".py",
   "mimetype": "text/x-python",
   "name": "python",
   "nbconvert_exporter": "python",
   "pygments_lexer": "ipython3",
   "version": "3.7.5"
  }
 },
 "nbformat": 4,
 "nbformat_minor": 2
}
